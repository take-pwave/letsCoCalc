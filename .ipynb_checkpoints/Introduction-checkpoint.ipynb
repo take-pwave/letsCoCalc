{
 "cells": [
  {
   "cell_type": "markdown",
   "metadata": {
    "collapsed": false
   },
   "source": [
    "## 数式処理システムって何\n",
    "CoCalcはオープンソースの数式処理システムで、ブラウザーからcocalc.comの提供するクラウドサービスやDockerを使った仮想環境で利用することができます。\n",
    "\n",
    "数式処理システムCoCalcと言われても、「数式システム」って何と思われる方が多いのではないでしょうか。\n",
    "\n",
    "私たちが日常で使う電卓と比べてみましょう。電卓で以下のように入力してみます。\n",
    "\n",
    "```\n",
    "1/2+1/3=0.833333333333333\n",
    "```\n",
    "\n",
    "Macの「計算機」で実行してみます。\n",
    "\n",
    "電卓では、計算の途中結果を二進数（bit）で行なっています。\n",
    "最初に1/2の結果0.5を計算して、次に1/3の結果0.333333333333333を計算して、その和を求めます。\n",
    "そして0.833333333333333の結果を返します。\n",
    "<img src=\"images/cal.png\" width=\"300px\"/>\n"
   ]
  },
  {
   "cell_type": "markdown",
   "metadata": {
    "collapsed": false
   },
   "source": [
    "## CoCalcで計算\n",
    "それでは、数式処理システムCoCalcで同じ計算を行なってみましょう。"
   ]
  },
  {
   "cell_type": "code",
   "execution_count": 1,
   "metadata": {
    "collapsed": false
   },
   "outputs": [
    {
     "data": {
      "text/plain": [
       "5/6"
      ]
     },
     "execution_count": 1,
     "metadata": {},
     "output_type": "execute_result"
    }
   ],
   "source": [
    "1/2 + 1/3"
   ]
  },
  {
   "cell_type": "markdown",
   "metadata": {
    "collapsed": false
   },
   "source": [
    "数式処理システムでは5/6の分数で答えが返されました。数式処理システムでは1/2+1/3の計算を式の通り計算しています。\n",
    "\n",
    "分数の計算は、分母を同じ値6に通分してから足し算をします。\n",
    "\n",
    "$$\n",
    "\\frac{1}{2} + \\frac{1}{3} = \\frac{2}{6} + \\frac{3}{6} = \\frac{5}{6}\n",
    "$$"
   ]
  },
  {
   "cell_type": "markdown",
   "metadata": {},
   "source": [
    "計算結果を数値に表すには、N関数を使用します。引数のdigits=nで有効桁数を指定できます。\n",
    "\n",
    "以下の例では5/6を有効桁数３２まで計算しています。"
   ]
  },
  {
   "cell_type": "code",
   "execution_count": 2,
   "metadata": {
    "collapsed": false
   },
   "outputs": [
    {
     "data": {
      "text/plain": [
       "0.83333333333333333333333333333333"
      ]
     },
     "execution_count": 2,
     "metadata": {},
     "output_type": "execute_result"
    }
   ],
   "source": [
    "N(1/2+1/3, digits=32)"
   ]
  },
  {
   "cell_type": "markdown",
   "metadata": {},
   "source": [
    "### 大きな桁の計算\n",
    "通常のプログラミング言語の提供する型で表現できる有効桁数は固定です。\n",
    "\n",
    "例えばMacの科学計算電卓を使って$8^{64}$を計算すると以下のように計算されます。\n",
    "\n",
    "<img src=\"images/8_power_of_64.png\" width=\"400px\"/>\n",
    "\n",
    "最後e57という値は、$10^{57}$を表しているので、小数点のあとに５７桁分の値があるのですが、そのうちの１５桁しか計算できていないのです。\n",
    "$$\n",
    "6.277101735386685 \\times 10^{57}\n",
    "$$\n",
    "\n",
    "これを数式システムCoCalcで計算するとすべての値を求めることができます。\n",
    "\n",
    "皆さんは、プログラミングができれば何でも計算できると思っていたと思いますが、それは正確な値ではなくある制限のもとで計算された概算値だということです。\n",
    "\n",
    "科学や技術の進歩に伴い、計算に要求される精度も変化しています。"
   ]
  },
  {
   "cell_type": "code",
   "execution_count": 3,
   "metadata": {
    "collapsed": false
   },
   "outputs": [
    {
     "data": {
      "text/plain": [
       "6277101735386680763835789423207666416102355444464034512896"
      ]
     },
     "execution_count": 3,
     "metadata": {},
     "output_type": "execute_result"
    }
   ],
   "source": [
    "8^64"
   ]
  },
  {
   "cell_type": "markdown",
   "metadata": {},
   "source": [
    "## 可視化\n",
    "可視化と言われてもピンとこないと思いますが、中学で習った関数のグラフを思い出して見てください。\n",
    "関数がどんな形をしているのか、ｘの値を変えながら同じ計算を何度も繰り返したと思います。\n",
    "\n",
    "数式システムCoCalcの可視化はとても強力です。\n",
    "\n",
    "変数xとyの間に以下のような関係がある場合を考えて見てください。\n",
    "$$\n",
    "y^2= x^3 + \\frac{1}{10}x + 10\n",
    "$$\n",
    "\n",
    "通常、グラフを書くには、ｘからyを求めなくてなりませんが、CoCalcでは関係式のままグラフを表示することができます。\n",
    "\n",
    "まずは、xとyの変数をvar関数で定義し、変数eqに上記の関係を代入します。show関数を使うと関係式eqを綺麗に表示してくれます。"
   ]
  },
  {
   "cell_type": "code",
   "execution_count": 4,
   "metadata": {
    "collapsed": false
   },
   "outputs": [
    {
     "data": {
      "text/html": [
       "<html><script type=\"math/tex; mode=display\">\\newcommand{\\Bold}[1]{\\mathbf{#1}}y^{2} = x^{3} + \\frac{1}{10} \\, x + 10</script></html>"
      ],
      "text/plain": [
       "y^2 == x^3 + 1/10*x + 10"
      ]
     },
     "metadata": {},
     "output_type": "display_data"
    }
   ],
   "source": [
    "var('x y')\n",
    "\n",
    "eq = y^2 == x^3 + 1/10*x + 10\n",
    "show(eq)"
   ]
  },
  {
   "cell_type": "markdown",
   "metadata": {},
   "source": [
    "次に、implicit_plot関数を使ってeqのグラフをｘとyをそれぞれ-10から10の範囲でプロットします。\n",
    "たったこれだけで複雑な関数のグラフを表示することができます。"
   ]
  },
  {
   "cell_type": "code",
   "execution_count": 5,
   "metadata": {
    "collapsed": false
   },
   "outputs": [
    {
     "data": {
      "image/png": "[encoded data removed]",
      "text/plain": [
       "Graphics object consisting of 1 graphics primitive"
      ]
     },
     "execution_count": 5,
     "metadata": {},
     "output_type": "execute_result"
    }
   ],
   "source": [
    "implicit_plot(eq, [x,-10, 10], [y, -10, 10], figsize=5)"
   ]
  },
  {
   "cell_type": "markdown",
   "metadata": {},
   "source": [
    "### 極値を計算\n",
    "数式処理システムの可視化の特徴を説明するために、ちょっと面白い関数のグラフを表示してみましょう。\n",
    "\n",
    "x=0での以下の関数の値はsin(0)が0ですから、0割る0で不定（求まらない）のはずですが、CoCalcでxを$-4\\pi$から$4\\pi$の範囲でプロットしてみましょう。x=0の値が１となり、とてもなめらかな曲線となっています。\n",
    "\n",
    "$$\n",
    "\\frac{sin(x)}{x}\n",
    "$$\n",
    "\n"
   ]
  },
  {
   "cell_type": "code",
   "execution_count": 6,
   "metadata": {
    "collapsed": false
   },
   "outputs": [
    {
     "data": {
      "image/png": "[encoded data removed]",
      "text/plain": [
       "Graphics object consisting of 1 graphics primitive"
      ]
     },
     "execution_count": 6,
     "metadata": {},
     "output_type": "execute_result"
    }
   ],
   "source": [
    "plot(sin(x)/x, [x, -4*pi, 4*pi], figsize=5)"
   ]
  },
  {
   "cell_type": "markdown",
   "metadata": {},
   "source": [
    "これは、sin(x)/xのx=0の極値を計算しているので、不定値ではなく１の値を正しく計算しています。\n",
    "\n",
    "変数fにsin(x)/xの式を代入して、limitメソッドを使ってx=0の値を求めてみると、期待通り１となります。"
   ]
  },
  {
   "cell_type": "code",
   "execution_count": 7,
   "metadata": {
    "collapsed": false
   },
   "outputs": [
    {
     "data": {
      "text/plain": [
       "1"
      ]
     },
     "execution_count": 7,
     "metadata": {},
     "output_type": "execute_result"
    }
   ],
   "source": [
    "f = sin(x)/x\n",
    "f.limit(x=0)"
   ]
  },
  {
   "cell_type": "markdown",
   "metadata": {
    "collapsed": true
   },
   "source": [
    "## 様々なシステムをつなぐ「のり」\n",
    "CoCalcは、最近AIでよく使われるPythonという言語をベースに作られています。\n",
    "\n",
    "Pythonには様々なライブラリが揃っています。有名なところでは豊富なデータ分析と可視化機能をもつPandasや多くの機械学習手法を統一したAPIで提供するScikit-learnが挙げられます。\n",
    "\n",
    "CoCalcは、統計処理システムRや数式や記号処理を得意とするmaximaなどの既存システムをCoCalcのノートブックから使うことができます。ちょうどCoCalcが他のシステムをつなぐ「のり」としての役割をし、CoCalcにない機能を他のシステムで補うことで広範囲の問題に対応することができます。"
   ]
  },
  {
   "cell_type": "markdown",
   "metadata": {
    "collapsed": true
   },
   "source": [
    "##### オープンデータの解析\n",
    "私の住む富山県高岡市でも少しずつ市の情報がオープンデータとして提供されています。\n",
    "ここでは、Pandas、Scikit-learnを使って平成29年5月の人口データ(h290531.xlsx)の可視化とグループ分けを紹介します。\n",
    "\n",
    "平成29年5月の人口データは、以下のようのなExcelファイルで提供されています。\n",
    "\n",
    "<img src=\"images/Excel_Sheet.png\" />"
   ]
  },
  {
   "cell_type": "markdown",
   "metadata": {},
   "source": [
    "### Pandasを使ってExcelデータを読み込む\n",
    "最初にpythonのパッケージをimport文を使って利用可能にします。"
   ]
  },
  {
   "cell_type": "code",
   "execution_count": 8,
   "metadata": {
    "collapsed": false
   },
   "outputs": [
    {
     "name": "stderr",
     "output_type": "stream",
     "text": [
      "/usr/lib/sagemath/local/lib/python2.7/site-packages/traitlets/traitlets.py:770: DeprecationWarning: A parent of InlineBackend._config_changed has adopted the new @observe(change) API\n",
      "  clsname, change_or_name), DeprecationWarning)\n"
     ]
    }
   ],
   "source": [
    "# python用のパッケージ\n",
    "import pandas as pd\n",
    "import numpy as np\n",
    "import matplotlib.pyplot as plt \n",
    "import seaborn as sns\n",
    "from sklearn import mixture\n",
    "%matplotlib inline"
   ]
  },
  {
   "cell_type": "markdown",
   "metadata": {},
   "source": [
    "次に、Pandas(pdと省略)のread_excel関数を使ってExcelファイルを読み込みます。\n",
    "ヘッダは４行目にあり、カラムは2列目から始まっていますので、header=3, index_col=1を指定します。"
   ]
  },
  {
   "cell_type": "code",
   "execution_count": 9,
   "metadata": {
    "collapsed": false
   },
   "outputs": [
    {
     "data": {
      "text/html": [
       "<div>\n",
       "<style>\n",
       "    .dataframe thead tr:only-child th {\n",
       "        text-align: right;\n",
       "    }\n",
       "\n",
       "    .dataframe thead th {\n",
       "        text-align: left;\n",
       "    }\n",
       "\n",
       "    .dataframe tbody tr th {\n",
       "        vertical-align: top;\n",
       "    }\n",
       "</style>\n",
       "<table border=\"1\" class=\"dataframe\">\n",
       "  <thead>\n",
       "    <tr style=\"text-align: right;\">\n",
       "      <th></th>\n",
       "      <th>頁</th>\n",
       "      <th>地区\n",
       "コード</th>\n",
       "      <th>地区名</th>\n",
       "      <th>人　　口</th>\n",
       "      <th>Unnamed: 4</th>\n",
       "      <th>Unnamed: 5</th>\n",
       "      <th>世帯数</th>\n",
       "    </tr>\n",
       "  </thead>\n",
       "  <tbody>\n",
       "    <tr>\n",
       "      <th>NaN</th>\n",
       "      <td>NaN</td>\n",
       "      <td>NaN</td>\n",
       "      <td>NaN</td>\n",
       "      <td>男</td>\n",
       "      <td>女</td>\n",
       "      <td>計</td>\n",
       "      <td>NaN</td>\n",
       "    </tr>\n",
       "    <tr>\n",
       "      <th>2</th>\n",
       "      <td>NaN</td>\n",
       "      <td>01 平米地区</td>\n",
       "      <td>NaN</td>\n",
       "      <td>1514</td>\n",
       "      <td>1766</td>\n",
       "      <td>3280</td>\n",
       "      <td>1563.0</td>\n",
       "    </tr>\n",
       "    <tr>\n",
       "      <th>3</th>\n",
       "      <td>NaN</td>\n",
       "      <td>02 定塚地区</td>\n",
       "      <td>NaN</td>\n",
       "      <td>4370</td>\n",
       "      <td>4855</td>\n",
       "      <td>9225</td>\n",
       "      <td>4006.0</td>\n",
       "    </tr>\n",
       "    <tr>\n",
       "      <th>4</th>\n",
       "      <td>NaN</td>\n",
       "      <td>03 下関地区</td>\n",
       "      <td>NaN</td>\n",
       "      <td>4442</td>\n",
       "      <td>4562</td>\n",
       "      <td>9004</td>\n",
       "      <td>4022.0</td>\n",
       "    </tr>\n",
       "    <tr>\n",
       "      <th>5</th>\n",
       "      <td>NaN</td>\n",
       "      <td>04 博労地区</td>\n",
       "      <td>NaN</td>\n",
       "      <td>5253</td>\n",
       "      <td>5738</td>\n",
       "      <td>10991</td>\n",
       "      <td>4653.0</td>\n",
       "    </tr>\n",
       "  </tbody>\n",
       "</table>\n",
       "</div>"
      ],
      "text/plain": [
       "      頁  地区\\nコード  地区名  人　　口 Unnamed: 4 Unnamed: 5     世帯数\n",
       "NaN NaN      NaN  NaN     男          女          計     NaN\n",
       "2   NaN  01 平米地区  NaN  1514       1766       3280  1563.0\n",
       "3   NaN  02 定塚地区  NaN  4370       4855       9225  4006.0\n",
       "4   NaN  03 下関地区  NaN  4442       4562       9004  4022.0\n",
       "5   NaN  04 博労地区  NaN  5253       5738      10991  4653.0"
      ]
     },
     "execution_count": 9,
     "metadata": {},
     "output_type": "execute_result"
    }
   ],
   "source": [
    "# 高岡市のオープンデータから平成29年5月の人口データ(h2790531.xlsx)を取り込みます\n",
    "d = pd.read_excel('data/h290531.xlsx', header=3, index_col=1)\n",
    "d.head()"
   ]
  },
  {
   "cell_type": "markdown",
   "metadata": {},
   "source": [
    "地区コードと地区名はセル結合していたり、頁が全てNaNになっているので、少し加工します。"
   ]
  },
  {
   "cell_type": "code",
   "execution_count": 10,
   "metadata": {
    "collapsed": false
   },
   "outputs": [
    {
     "data": {
      "text/html": [
       "<div>\n",
       "<style>\n",
       "    .dataframe thead tr:only-child th {\n",
       "        text-align: right;\n",
       "    }\n",
       "\n",
       "    .dataframe thead th {\n",
       "        text-align: left;\n",
       "    }\n",
       "\n",
       "    .dataframe tbody tr th {\n",
       "        vertical-align: top;\n",
       "    }\n",
       "</style>\n",
       "<table border=\"1\" class=\"dataframe\">\n",
       "  <thead>\n",
       "    <tr style=\"text-align: right;\">\n",
       "      <th></th>\n",
       "      <th>code</th>\n",
       "      <th>male</th>\n",
       "      <th>female</th>\n",
       "      <th>population</th>\n",
       "      <th>household</th>\n",
       "    </tr>\n",
       "  </thead>\n",
       "  <tbody>\n",
       "    <tr>\n",
       "      <th>2</th>\n",
       "      <td>01 平米地区</td>\n",
       "      <td>1514</td>\n",
       "      <td>1766</td>\n",
       "      <td>3280</td>\n",
       "      <td>1563.0</td>\n",
       "    </tr>\n",
       "    <tr>\n",
       "      <th>3</th>\n",
       "      <td>02 定塚地区</td>\n",
       "      <td>4370</td>\n",
       "      <td>4855</td>\n",
       "      <td>9225</td>\n",
       "      <td>4006.0</td>\n",
       "    </tr>\n",
       "    <tr>\n",
       "      <th>4</th>\n",
       "      <td>03 下関地区</td>\n",
       "      <td>4442</td>\n",
       "      <td>4562</td>\n",
       "      <td>9004</td>\n",
       "      <td>4022.0</td>\n",
       "    </tr>\n",
       "    <tr>\n",
       "      <th>5</th>\n",
       "      <td>04 博労地区</td>\n",
       "      <td>5253</td>\n",
       "      <td>5738</td>\n",
       "      <td>10991</td>\n",
       "      <td>4653.0</td>\n",
       "    </tr>\n",
       "    <tr>\n",
       "      <th>6</th>\n",
       "      <td>05 横田地区</td>\n",
       "      <td>2720</td>\n",
       "      <td>2953</td>\n",
       "      <td>5673</td>\n",
       "      <td>2243.0</td>\n",
       "    </tr>\n",
       "  </tbody>\n",
       "</table>\n",
       "</div>"
      ],
      "text/plain": [
       "      code  male female population  household\n",
       "2  01 平米地区  1514   1766       3280     1563.0\n",
       "3  02 定塚地区  4370   4855       9225     4006.0\n",
       "4  03 下関地区  4442   4562       9004     4022.0\n",
       "5  04 博労地区  5253   5738      10991     4653.0\n",
       "6  05 横田地区  2720   2953       5673     2243.0"
      ]
     },
     "execution_count": 10,
     "metadata": {},
     "output_type": "execute_result"
    }
   ],
   "source": [
    "# カラム名を付け直し、最初の5個を表示\n",
    "d.columns = ['not_used', 'code', 'region', 'male', 'female', 'population', 'household']\n",
    "# 最初の番号（index）が1より大きなcode, population, householdを抽出します。\n",
    "d1 = d[d.index > 1][['code', 'male', 'female', 'population', 'household']]\n",
    "d1.head()"
   ]
  },
  {
   "cell_type": "markdown",
   "metadata": {},
   "source": [
    "データが整ったので、男性、女性、世帯数を取り出し、ペアプロットで表示してみましょう。"
   ]
  },
  {
   "cell_type": "code",
   "execution_count": 11,
   "metadata": {
    "collapsed": false
   },
   "outputs": [
    {
     "data": {
      "text/plain": [
       "<seaborn.axisgrid.PairGrid object at 0x7ff1b2c38f10>"
      ]
     },
     "execution_count": 11,
     "metadata": {},
     "output_type": "execute_result"
    },
    {
     "data": {
      "image/png": "[encoded data removed]",
      "text/plain": [
       "<matplotlib.figure.Figure object at 0x7ff1b333fed0>"
      ]
     },
     "metadata": {},
     "output_type": "display_data"
    }
   ],
   "source": [
    "# 男性、女性、人口、世帯数を取り出し、ペアプロットを表示\n",
    "# N：地区のindexの最大数（合計やその他のデータを除くため）\n",
    "N = 35\n",
    "d2 = d[d.index > 1][['male', 'female', 'household']]\n",
    "d2 = d2[d2.index <=N]\n",
    "\n",
    "sns.set()\n",
    "sns.pairplot(d2, size=2)"
   ]
  },
  {
   "cell_type": "markdown",
   "metadata": {},
   "source": [
    "### グループ分け\n",
    "分析の例として、高岡市の地区を2つのグループに分けてみましょう。 グループ分けに使用するデータは、男性、女性の人数と世帯数のデータとします。\n",
    "\n",
    "分析には、Scikit-learnのmixtureパッケージのGaussianMixture（混合ガウスモデル）を使用します。"
   ]
  },
  {
   "cell_type": "code",
   "execution_count": 12,
   "metadata": {
    "collapsed": false
   },
   "outputs": [
    {
     "data": {
      "text/plain": [
       "GaussianMixture(covariance_type='full', init_params='kmeans', max_iter=100,\n",
       "        means_init=None, n_components=2, n_init=1, precisions_init=None,\n",
       "        random_state=None, reg_covar=1e-06, tol=0.001, verbose=0,\n",
       "        verbose_interval=10, warm_start=False, weights_init=None)"
      ]
     },
     "execution_count": 12,
     "metadata": {},
     "output_type": "execute_result"
    }
   ],
   "source": [
    "# GMMを求める\n",
    "categories = ['male', 'female', 'household']\n",
    "data = d2[categories].values\n",
    "# 分類器の生成\n",
    "classifier = mixture.GaussianMixture(n_components=2, covariance_type='full')\n",
    "# 混合正規分布を求める\n",
    "classifier.fit(data)"
   ]
  },
  {
   "cell_type": "markdown",
   "metadata": {},
   "source": [
    "グループ分けの結果をpredにセットし、グループ分けの結果で色分けして、男性、女性の人数と世帯数のペアプロットを表示してみましょう。この結果から、過疎の地域と人口密集地域に分類されることは想定通りなのですが、例外としてぽつんと離れた地区が存在することも分かりました。これだから頭で決めつける前に分析を実行することが大切なのだと実感しました。"
   ]
  },
  {
   "cell_type": "code",
   "execution_count": 13,
   "metadata": {
    "collapsed": false
   },
   "outputs": [],
   "source": [
    "# 分類結果をpredにセット\n",
    "d2['pred'] = classifier.predict(data)"
   ]
  },
  {
   "cell_type": "code",
   "execution_count": 14,
   "metadata": {
    "collapsed": false
   },
   "outputs": [
    {
     "data": {
      "text/plain": [
       "<seaborn.axisgrid.PairGrid object at 0x7ff1b2b0ca90>"
      ]
     },
     "execution_count": 14,
     "metadata": {},
     "output_type": "execute_result"
    },
    {
     "data": {
      "image/png": "[encoded data removed]",
      "text/plain": [
       "<matplotlib.figure.Figure object at 0x7ff1b2b31310>"
      ]
     },
     "metadata": {},
     "output_type": "display_data"
    }
   ],
   "source": [
    "sns.set()\n",
    "sns.pairplot(d2, size=2, vars=categories, hue='pred')"
   ]
  },
  {
   "cell_type": "code",
   "execution_count": null,
   "metadata": {
    "collapsed": true
   },
   "outputs": [],
   "source": []
  }
 ],
 "metadata": {
  "kernelspec": {
   "display_name": "SageMath 7.5.1",
   "language": "",
   "name": "sagemath"
  },
  "language_info": {
   "codemirror_mode": {
    "name": "ipython",
    "version": 2
   },
   "file_extension": ".py",
   "mimetype": "text/x-python",
   "name": "python",
   "nbconvert_exporter": "python",
   "pygments_lexer": "ipython2",
   "version": "2.7.13"
  }
 },
 "nbformat": 4,
 "nbformat_minor": 0
}
